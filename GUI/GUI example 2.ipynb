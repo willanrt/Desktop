{
 "cells": [
  {
   "cell_type": "code",
   "execution_count": 1,
   "metadata": {},
   "outputs": [
    {
     "data": {
      "text/plain": [
       "0"
      ]
     },
     "execution_count": 1,
     "metadata": {},
     "output_type": "execute_result"
    }
   ],
   "source": [
    "\n",
    "import wx\n",
    "app = wx.App()\n",
    "frame = wx.Frame(None, title=\"这是一个简单的文本阅读器\",\n",
    "                 pos=(100, 200), size=(600, 400))\n",
    "panel = wx.Panel(frame)\n",
    "remind_path = wx.StaticText(panel, label=\"输入地址:\", pos=(5, 35))\n",
    "get_path = wx.TextCtrl(panel, pos=(70, 30), size=(350, 24))\n",
    "output_text = wx.TextCtrl(panel, pos=(70, 70),\n",
    "                          size=(600, 350), style=wx.TE_MULTILINE)\n",
    "\n",
    "\n",
    "def openfile(event):\n",
    "    path = get_path.GetValue()\n",
    "    try:\n",
    "        content = []\n",
    "        for line in open(path,\"r\",encoding=\"utf8\"):\n",
    "            content.append(line)\n",
    "        output_text.SetValue(\"\",join(content))\n",
    "    except:\n",
    "        message = \"path.error!\"\n",
    "        wx.MessageBox(message)\n",
    "    result = []\n",
    "    for line in open(path, \"r\", encoding=\"utf8\"):\n",
    "        result.append(line)\n",
    "    content = \"\".join(result)\n",
    "    output_text.SetValue(content)\n",
    "\n",
    "\n",
    "\n",
    "button = wx.Button(panel, label=\"打开\", pos=(450, 30))\n",
    "button.Bind(wx.EVT_BUTTON, openfile)\n",
    "\n",
    "frame.Show()\n",
    "app.MainLoop()\n"
   ]
  },
  {
   "cell_type": "code",
   "execution_count": null,
   "metadata": {},
   "outputs": [],
   "source": [
    "import wx\n",
    "\n",
    "\n",
    "class MyFrame(wx.Frame):\n",
    "    def __init__(self, parent, id):\n",
    "        wx.Frame.__init__(self, parent, id, '用户登录', size=(400, 300))\n",
    "        self.panel = wx.Panel(self)\n",
    "        self.account = wx.TextCtrl(self.panel, pos=(120, 20), size=(150, 30))\n",
    "        self.button = wx.Button(self.panel, label=\"account\", pos=(20, 20))\n",
    "        self.button.Bind(wx.EVT_BUTTON, self.login_event)\n",
    "\n",
    "    def login_event(self, event):\n",
    "        account = self.account.GetValue()\n",
    "        if account == \"123\":\n",
    "            self.Destroy()  # 事件停止后是否删除顶层窗口\n",
    "            frame = wx.Frame(None, title=\"这是一个文本阅读器\",\n",
    "                             pos=(100, 200), size=(600, 400))\n",
    "            self.panel = wx.Panel(frame)\n",
    "            self.title = wx.StaticText(\n",
    "                self.panel, label=\"这是一个简单的文本阅读器\", pos=(160, 5))\n",
    "            self.remind_text = wx.StaticText(\n",
    "                self.panel, label=\"输入地址：\", pos=(5, 35))\n",
    "            self.input_path = wx.TextCtrl(\n",
    "                self.panel, pos=(70, 30), size=(350, 24))\n",
    "            self.open_Button = wx.Button(self.panel, label=\"打开\", pos=(450, 30))\n",
    "            self.open_Button.Bind(wx.EVT_BUTTON, self.openfile)\n",
    "            self.output_text = wx.TextCtrl(self.panel, pos=(\n",
    "                70, 70), size=(600, 350), style=wx.TE_MULTILINE)\n",
    "            frame.Show()\n",
    "        else:\n",
    "            message = \"error!\"\n",
    "            wx.MessageBox(message)\n",
    "\n",
    "    def openfile(self, event):\n",
    "        try:\n",
    "            path = self.input_path.GetValue()\n",
    "            content = []\n",
    "            for line in open(path, \"r\", encoding=\"utf8\"):\n",
    "                content.append(line)\n",
    "            self.output_text.SetValue(\"\".join(content))\n",
    "        except:\n",
    "            message = \"path error!\"\n",
    "            wx.MessageBox(message)\n",
    "\n",
    "\n",
    "if __name__ == \"__main__\":\n",
    "    app = wx.App()\n",
    "    frame = MyFrame(None, -1,)\n",
    "    frame.Show()\n",
    "    app.MainLoop()\n"
   ]
  }
 ],
 "metadata": {
  "interpreter": {
   "hash": "a43502c50d07f7165276fc6a1ee3ef0553f4d2b4a04056ae2fd12adc625fa980"
  },
  "kernelspec": {
   "display_name": "Python 3.10.4 64-bit",
   "language": "python",
   "name": "python3"
  },
  "language_info": {
   "codemirror_mode": {
    "name": "ipython",
    "version": 3
   },
   "file_extension": ".py",
   "mimetype": "text/x-python",
   "name": "python",
   "nbconvert_exporter": "python",
   "pygments_lexer": "ipython3",
   "version": "3.10.4"
  },
  "orig_nbformat": 4
 },
 "nbformat": 4,
 "nbformat_minor": 2
}
