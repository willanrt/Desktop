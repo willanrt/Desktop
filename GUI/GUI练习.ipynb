{
 "cells": [
  {
   "cell_type": "code",
   "execution_count": 1,
   "metadata": {},
   "outputs": [
    {
     "data": {
      "text/plain": [
       "0"
      ]
     },
     "execution_count": 1,
     "metadata": {},
     "output_type": "execute_result"
    }
   ],
   "source": [
    "import wx\n",
    "app = wx.App()\n",
    "frame = wx.Frame(None, title=\"这是一个简单的阅读器\", pos=(100, 200), size=(600, 400))\n",
    "panel = wx.Panel(frame)\n",
    "remind_path = wx.StaticText(panel,label = \"输入地址\",pos = (5,30))\n",
    "get_path = wx.TextCtrl(frame, pos=(70, 30), size=(350, 24))\n",
    "button = wx.Button(panel,label=\"打开\",pos = (450,30))\n",
    "frame.Show()\n",
    "app.MainLoop()\n"
   ]
  },
  {
   "cell_type": "code",
   "execution_count": 1,
   "metadata": {},
   "outputs": [
    {
     "data": {
      "text/plain": [
       "0"
      ]
     },
     "execution_count": 1,
     "metadata": {},
     "output_type": "execute_result"
    }
   ],
   "source": [
    "import wx\n",
    "app = wx.App()\n",
    "frame = wx.Frame(None, title=\"文本阅读器\", pos=(100, 200), size=(600, 400))\n",
    "panel = wx.Panel(frame)\n",
    "remind_path = wx.StaticText(panel, label=\"文本地址:\", pos=(5, 30))\n",
    "get_path = wx.TextCtrl(panel, pos=(70, 30), size=(350, 30))\n",
    "output_text = wx.TextCtrl(panel,pos = (70,70),size = (600,350),style = wx.TE_MULTILINE)\n",
    "\n",
    "def openfile(event):\n",
    "    path = get_path.GetValue()\n",
    "\n",
    "    result = []\n",
    "    for line in open(path,\"r\",encoding=\"utf8\"):\n",
    "        result.append(line)\n",
    "    content = \"\".join(result)\n",
    "    output_text.SetValue(content)\n",
    "button = wx.Button(panel, label=\"打开\", pos=(450, 30))\n",
    "button.Bind(wx.EVT_BUTTON,openfile)\n",
    "frame.Show()\n",
    "app.MainLoop()\n",
    "\n"
   ]
  },
  {
   "cell_type": "code",
   "execution_count": null,
   "metadata": {},
   "outputs": [],
   "source": []
  }
 ],
 "metadata": {
  "interpreter": {
   "hash": "a43502c50d07f7165276fc6a1ee3ef0553f4d2b4a04056ae2fd12adc625fa980"
  },
  "kernelspec": {
   "display_name": "Python 3.10.4 64-bit",
   "language": "python",
   "name": "python3"
  },
  "language_info": {
   "codemirror_mode": {
    "name": "ipython",
    "version": 3
   },
   "file_extension": ".py",
   "mimetype": "text/x-python",
   "name": "python",
   "nbconvert_exporter": "python",
   "pygments_lexer": "ipython3",
   "version": "3.10.4"
  },
  "orig_nbformat": 4
 },
 "nbformat": 4,
 "nbformat_minor": 2
}
